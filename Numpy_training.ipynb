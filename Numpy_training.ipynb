{
  "nbformat": 4,
  "nbformat_minor": 0,
  "metadata": {
    "colab": {
      "name": "Numpy_training.ipynb",
      "provenance": [],
      "collapsed_sections": [],
      "authorship_tag": "ABX9TyMETr75clbBAT0FiK6KrEGe",
      "include_colab_link": true
    },
    "kernelspec": {
      "name": "python3",
      "display_name": "Python 3"
    }
  },
  "cells": [
    {
      "cell_type": "markdown",
      "metadata": {
        "id": "view-in-github",
        "colab_type": "text"
      },
      "source": [
        "<a href=\"https://colab.research.google.com/github/bachi-mohamed-rafik/numpy-learning/blob/main/Numpy_training.ipynb\" target=\"_parent\"><img src=\"https://colab.research.google.com/assets/colab-badge.svg\" alt=\"Open In Colab\"/></a>"
      ]
    },
    {
      "cell_type": "markdown",
      "metadata": {
        "id": "b5pfgSwX3Rod"
      },
      "source": [
        "#Numpy "
      ]
    },
    {
      "cell_type": "code",
      "metadata": {
        "id": "XpzdE7DN1ZIV"
      },
      "source": [
        "import pandas as pd\r\n",
        "import numpy as np"
      ],
      "execution_count": 1,
      "outputs": []
    },
    {
      "cell_type": "code",
      "metadata": {
        "colab": {
          "base_uri": "https://localhost:8080/"
        },
        "id": "KI4TRIYr3iN7",
        "outputId": "9ef8a812-08bd-4e53-ba7e-608acdcab8b1"
      },
      "source": [
        "#numpy version and the configuration \r\n",
        "print(np.__version__)\r\n",
        "print(np.show_config())\r\n"
      ],
      "execution_count": 2,
      "outputs": [
        {
          "output_type": "stream",
          "text": [
            "1.19.4\n",
            "blas_mkl_info:\n",
            "  NOT AVAILABLE\n",
            "blis_info:\n",
            "  NOT AVAILABLE\n",
            "openblas_info:\n",
            "    libraries = ['openblas', 'openblas']\n",
            "    library_dirs = ['/usr/local/lib']\n",
            "    language = c\n",
            "    define_macros = [('HAVE_CBLAS', None)]\n",
            "blas_opt_info:\n",
            "    libraries = ['openblas', 'openblas']\n",
            "    library_dirs = ['/usr/local/lib']\n",
            "    language = c\n",
            "    define_macros = [('HAVE_CBLAS', None)]\n",
            "lapack_mkl_info:\n",
            "  NOT AVAILABLE\n",
            "openblas_lapack_info:\n",
            "    libraries = ['openblas', 'openblas']\n",
            "    library_dirs = ['/usr/local/lib']\n",
            "    language = c\n",
            "    define_macros = [('HAVE_CBLAS', None)]\n",
            "lapack_opt_info:\n",
            "    libraries = ['openblas', 'openblas']\n",
            "    library_dirs = ['/usr/local/lib']\n",
            "    language = c\n",
            "    define_macros = [('HAVE_CBLAS', None)]\n",
            "None\n"
          ],
          "name": "stdout"
        }
      ]
    },
    {
      "cell_type": "code",
      "metadata": {
        "colab": {
          "base_uri": "https://localhost:8080/"
        },
        "id": "ydloSVT83o4V",
        "outputId": "201df4d3-0c03-4567-911b-2eeb60cc1405"
      },
      "source": [
        "#3. Create a null vector of size 10 \r\n",
        "x=np.zeros(10)\r\n",
        "print(x)"
      ],
      "execution_count": 3,
      "outputs": [
        {
          "output_type": "stream",
          "text": [
            "[0. 0. 0. 0. 0. 0. 0. 0. 0. 0.]\n"
          ],
          "name": "stdout"
        }
      ]
    },
    {
      "cell_type": "code",
      "metadata": {
        "colab": {
          "base_uri": "https://localhost:8080/"
        },
        "id": "AgVOlz503sqA",
        "outputId": "ebc5fa5b-83c3-4c7b-ccf3-f5d88d157151"
      },
      "source": [
        "#4. How to find the memory size of any array\r\n",
        "print(x.itemsize)\r\n"
      ],
      "execution_count": 4,
      "outputs": [
        {
          "output_type": "stream",
          "text": [
            "8\n"
          ],
          "name": "stdout"
        }
      ]
    },
    {
      "cell_type": "code",
      "metadata": {
        "colab": {
          "base_uri": "https://localhost:8080/"
        },
        "id": "QFO0aDYe3wDD",
        "outputId": "24dc9be4-7ac1-4d50-8e69-7f4067a494c3"
      },
      "source": [
        "#6. Create a null vector of size 10 but the fifth value which is 1\r\n",
        "y=np.zeros(10)\r\n",
        "y[4]=1\r\n",
        "print(y)\r\n"
      ],
      "execution_count": 6,
      "outputs": [
        {
          "output_type": "stream",
          "text": [
            "[0. 0. 0. 0. 1. 0. 0. 0. 0. 0.]\n"
          ],
          "name": "stdout"
        }
      ]
    },
    {
      "cell_type": "code",
      "metadata": {
        "colab": {
          "base_uri": "https://localhost:8080/"
        },
        "id": "Ht-4XRQ631qP",
        "outputId": "e9d3608d-ee42-4790-deb8-9fcd80a0bacb"
      },
      "source": [
        "#7. Create a vector with values ranging from 10 to 49 \r\n",
        "s=np.arange(10,49)\r\n",
        "print(s)"
      ],
      "execution_count": 7,
      "outputs": [
        {
          "output_type": "stream",
          "text": [
            "[10 11 12 13 14 15 16 17 18 19 20 21 22 23 24 25 26 27 28 29 30 31 32 33\n",
            " 34 35 36 37 38 39 40 41 42 43 44 45 46 47 48]\n"
          ],
          "name": "stdout"
        }
      ]
    },
    {
      "cell_type": "code",
      "metadata": {
        "colab": {
          "base_uri": "https://localhost:8080/"
        },
        "id": "kb3YoDuB35Eu",
        "outputId": "5e70bf76-dd62-46ac-9788-778d9441ea44"
      },
      "source": [
        "#8. Reverse a vector (first element becomes last)\r\n",
        "b=s[::-1]\r\n",
        "print(\"reversed list\",b)"
      ],
      "execution_count": 8,
      "outputs": [
        {
          "output_type": "stream",
          "text": [
            "reversed list [48 47 46 45 44 43 42 41 40 39 38 37 36 35 34 33 32 31 30 29 28 27 26 25\n",
            " 24 23 22 21 20 19 18 17 16 15 14 13 12 11 10]\n"
          ],
          "name": "stdout"
        }
      ]
    },
    {
      "cell_type": "code",
      "metadata": {
        "colab": {
          "base_uri": "https://localhost:8080/"
        },
        "id": "57kkQsfX38qj",
        "outputId": "bc5a8bec-157b-4df3-ca9c-0eaf3218bbb0"
      },
      "source": [
        "#9. Create a 3x3 matrix with values ranging from 0 to 8\r\n",
        "m=np.arange(0,9).reshape(3,3)\r\n",
        "print(m)\r\n"
      ],
      "execution_count": 9,
      "outputs": [
        {
          "output_type": "stream",
          "text": [
            "[[0 1 2]\n",
            " [3 4 5]\n",
            " [6 7 8]]\n"
          ],
          "name": "stdout"
        }
      ]
    },
    {
      "cell_type": "code",
      "metadata": {
        "colab": {
          "base_uri": "https://localhost:8080/"
        },
        "id": "GUg32HBX3_1f",
        "outputId": "eda416f2-4fd7-4240-b645-30184ef59773"
      },
      "source": [
        "#10. Find indices of non-zero elements from [1,2,0,0,4,0] \r\n",
        "f=[1,2,0,0,4,0]\r\n",
        "out_tpl = np.nonzero(f)\r\n",
        "print(out_tpl)"
      ],
      "execution_count": 10,
      "outputs": [
        {
          "output_type": "stream",
          "text": [
            "(array([0, 1, 4]),)\n"
          ],
          "name": "stdout"
        }
      ]
    },
    {
      "cell_type": "code",
      "metadata": {
        "colab": {
          "base_uri": "https://localhost:8080/"
        },
        "id": "qIA7hafN4EV0",
        "outputId": "a1b26767-1c1c-45e3-8df6-1c77f7b79a3c"
      },
      "source": [
        "#11. Create a 3x3 identity matrix\r\n",
        "im=np.identity(3)\r\n",
        "print(im)"
      ],
      "execution_count": 11,
      "outputs": [
        {
          "output_type": "stream",
          "text": [
            "[[1. 0. 0.]\n",
            " [0. 1. 0.]\n",
            " [0. 0. 1.]]\n"
          ],
          "name": "stdout"
        }
      ]
    },
    {
      "cell_type": "code",
      "metadata": {
        "colab": {
          "base_uri": "https://localhost:8080/"
        },
        "id": "-rk07Vz04F_R",
        "outputId": "36208394-46d0-4e2e-8930-32e3be77a10f"
      },
      "source": [
        "#12. Create a 3x3x3 array with random values\r\n",
        "print(\"Create a 3x3x3 array with random values\")\r\n",
        "a=np.random.random((3,3,3))\r\n",
        "print(a)"
      ],
      "execution_count": 12,
      "outputs": [
        {
          "output_type": "stream",
          "text": [
            "Create a 3x3x3 array with random values\n",
            "[[[0.29030964 0.91391091 0.98952707]\n",
            "  [0.99375975 0.11579927 0.01376291]\n",
            "  [0.08871514 0.77408718 0.60783213]]\n",
            "\n",
            " [[0.46718619 0.32933815 0.24731996]\n",
            "  [0.80688669 0.00600869 0.30999148]\n",
            "  [0.81288039 0.98939895 0.13022311]]\n",
            "\n",
            " [[0.98518238 0.04622329 0.14574683]\n",
            "  [0.13787928 0.95117871 0.0978088 ]\n",
            "  [0.30093919 0.55642791 0.98596819]]]\n"
          ],
          "name": "stdout"
        }
      ]
    },
    {
      "cell_type": "code",
      "metadata": {
        "colab": {
          "base_uri": "https://localhost:8080/"
        },
        "id": "GSK1Wdd54Km-",
        "outputId": "3cb0b0f8-0df6-4158-bc74-286f5a739667"
      },
      "source": [
        "#Create a 10x10 array with random values and find the minimum and maximum values\r\n",
        "print(\"Create a 10x10 array with random values and find the minimum and maximum values :\")\r\n",
        "c=np.random.random((10,10))\r\n",
        "mi=c.min()\r\n",
        "ma=c.max()\r\n",
        "print(\"min\",mi)\r\n",
        "print(\"max\",ma)"
      ],
      "execution_count": 13,
      "outputs": [
        {
          "output_type": "stream",
          "text": [
            "Create a 10x10 array with random values and find the minimum and maximum values :\n",
            "min 0.014743935031925726\n",
            "max 0.9963202481049771\n"
          ],
          "name": "stdout"
        }
      ]
    },
    {
      "cell_type": "code",
      "metadata": {
        "colab": {
          "base_uri": "https://localhost:8080/"
        },
        "id": "8-2wk7RH4NAM",
        "outputId": "ee5d78e2-f372-4d53-f3be-e65985836ecb"
      },
      "source": [
        "#14. Create a random vector of size 30 and find the mean value \r\n",
        "rv=np.random.random(30)\r\n",
        "print(rv)"
      ],
      "execution_count": 14,
      "outputs": [
        {
          "output_type": "stream",
          "text": [
            "[0.68102938 0.46911272 0.9516751  0.20273528 0.67861411 0.68856281\n",
            " 0.11854601 0.68146343 0.32659728 0.99650106 0.58127651 0.4466422\n",
            " 0.92339551 0.31998302 0.39608612 0.18114911 0.69526805 0.45204358\n",
            " 0.93426599 0.11533233 0.82609071 0.07395185 0.64056341 0.44253196\n",
            " 0.63492254 0.47446323 0.07871792 0.79135438 0.33714203 0.77886899]\n"
          ],
          "name": "stdout"
        }
      ]
    },
    {
      "cell_type": "code",
      "metadata": {
        "colab": {
          "base_uri": "https://localhost:8080/"
        },
        "id": "qKpZLht74TuR",
        "outputId": "6579622d-c273-4f1d-e072-a56f8842c1a6"
      },
      "source": [
        "#15. Create a 2d array with 1 on the border and 0 inside\r\n",
        "j=np.ones((5,5))\r\n",
        "j[1:-1,1:-1]=0\r\n",
        "print(j)"
      ],
      "execution_count": 16,
      "outputs": [
        {
          "output_type": "stream",
          "text": [
            "[[1. 1. 1. 1. 1.]\n",
            " [1. 0. 0. 0. 1.]\n",
            " [1. 0. 0. 0. 1.]\n",
            " [1. 0. 0. 0. 1.]\n",
            " [1. 1. 1. 1. 1.]]\n"
          ],
          "name": "stdout"
        }
      ]
    },
    {
      "cell_type": "code",
      "metadata": {
        "colab": {
          "base_uri": "https://localhost:8080/"
        },
        "id": "W18krAp34qWT",
        "outputId": "126e096a-5e8f-4738-c696-1bf54caa47a6"
      },
      "source": [
        "#16. How to add a border (filled with 0's) around an existing array? \r\n",
        "t=np.ones((4,4))\r\n",
        "print(\"The original array\")\r\n",
        "print(t)\r\n",
        "t=np.pad(t,pad_width=1,mode='constant',constant_values=0)\r\n",
        "print(t)"
      ],
      "execution_count": 17,
      "outputs": [
        {
          "output_type": "stream",
          "text": [
            "The original array\n",
            "[[1. 1. 1. 1.]\n",
            " [1. 1. 1. 1.]\n",
            " [1. 1. 1. 1.]\n",
            " [1. 1. 1. 1.]]\n",
            "[[0. 0. 0. 0. 0. 0.]\n",
            " [0. 1. 1. 1. 1. 0.]\n",
            " [0. 1. 1. 1. 1. 0.]\n",
            " [0. 1. 1. 1. 1. 0.]\n",
            " [0. 1. 1. 1. 1. 0.]\n",
            " [0. 0. 0. 0. 0. 0.]]\n"
          ],
          "name": "stdout"
        }
      ]
    },
    {
      "cell_type": "code",
      "metadata": {
        "colab": {
          "base_uri": "https://localhost:8080/"
        },
        "id": "6zZZh95z4tyU",
        "outputId": "72560b5c-863b-4c03-8f31-4f3514518fd1"
      },
      "source": [
        "#18. Create a 5x5 matrix with values 1,2,3,4 just below the diagonal\r\n",
        "print(\"18. Create a 5x5 matrix with values 1,2,3,4 just below the diagonal:\")\r\n",
        "\r\n",
        "Z = np.diag(1+np.arange(4),k=-1)\r\n",
        "print(Z)"
      ],
      "execution_count": 18,
      "outputs": [
        {
          "output_type": "stream",
          "text": [
            "18. Create a 5x5 matrix with values 1,2,3,4 just below the diagonal:\n",
            "[[0 0 0 0 0]\n",
            " [1 0 0 0 0]\n",
            " [0 2 0 0 0]\n",
            " [0 0 3 0 0]\n",
            " [0 0 0 4 0]]\n"
          ],
          "name": "stdout"
        }
      ]
    },
    {
      "cell_type": "code",
      "metadata": {
        "colab": {
          "base_uri": "https://localhost:8080/"
        },
        "id": "GQTu7IeE4xGF",
        "outputId": "54815162-7df7-4bb4-f7b3-32999112e679"
      },
      "source": [
        "#19. Create a 8x8 matrix and fill it with a checkerboard pattern\r\n",
        "print(\"Create a 8x8 matrix and fill it with a checkerboard pattern:\")\r\n",
        "n=np.zeros((8,8))\r\n",
        "n[1::2,::2] = 1\r\n",
        "n[::2,1::2] = 1\r\n",
        "print(n)"
      ],
      "execution_count": 19,
      "outputs": [
        {
          "output_type": "stream",
          "text": [
            "Create a 8x8 matrix and fill it with a checkerboard pattern:\n",
            "[[0. 1. 0. 1. 0. 1. 0. 1.]\n",
            " [1. 0. 1. 0. 1. 0. 1. 0.]\n",
            " [0. 1. 0. 1. 0. 1. 0. 1.]\n",
            " [1. 0. 1. 0. 1. 0. 1. 0.]\n",
            " [0. 1. 0. 1. 0. 1. 0. 1.]\n",
            " [1. 0. 1. 0. 1. 0. 1. 0.]\n",
            " [0. 1. 0. 1. 0. 1. 0. 1.]\n",
            " [1. 0. 1. 0. 1. 0. 1. 0.]]\n"
          ],
          "name": "stdout"
        }
      ]
    },
    {
      "cell_type": "code",
      "metadata": {
        "colab": {
          "base_uri": "https://localhost:8080/"
        },
        "id": "kDVhAY6U412H",
        "outputId": "89167aa4-ed4e-4791-ef1e-06acf08ab1ab"
      },
      "source": [
        "#20. the index (x,y,z) of the 100th element\r\n",
        "print(\"the index (x,y,z) of the 100th element:\")\r\n",
        "print(np.unravel_index(99,(6,7,8)))"
      ],
      "execution_count": 20,
      "outputs": [
        {
          "output_type": "stream",
          "text": [
            "the index (x,y,z) of the 100th element:\n",
            "(1, 5, 3)\n"
          ],
          "name": "stdout"
        }
      ]
    },
    {
      "cell_type": "code",
      "metadata": {
        "colab": {
          "base_uri": "https://localhost:8080/"
        },
        "id": "0ldpYLSk43cQ",
        "outputId": "18a43e48-48f3-45de-93b9-fa72a6a6c511"
      },
      "source": [
        "#21. Create a checkerboard 8x8 matrix using the tile function \r\n",
        "print(\"Create a checkerboard 8x8 matrix using the tile function :\")\r\n",
        "n = 8\r\n",
        "arr = ([0,1])\r\n",
        "print(np.tile(arr,(n,n//2)))"
      ],
      "execution_count": 21,
      "outputs": [
        {
          "output_type": "stream",
          "text": [
            "Create a checkerboard 8x8 matrix using the tile function :\n",
            "[[0 1 0 1 0 1 0 1]\n",
            " [0 1 0 1 0 1 0 1]\n",
            " [0 1 0 1 0 1 0 1]\n",
            " [0 1 0 1 0 1 0 1]\n",
            " [0 1 0 1 0 1 0 1]\n",
            " [0 1 0 1 0 1 0 1]\n",
            " [0 1 0 1 0 1 0 1]\n",
            " [0 1 0 1 0 1 0 1]]\n"
          ],
          "name": "stdout"
        }
      ]
    },
    {
      "cell_type": "code",
      "metadata": {
        "colab": {
          "base_uri": "https://localhost:8080/"
        },
        "id": "FaY-V2m84-xI",
        "outputId": "609e8525-3c1e-4a36-bd3f-113360690ad6"
      },
      "source": [
        "#22Normalize a 5x5 random matrix\r\n",
        "print(\"Normalize a 5x5 random matrix:\")\r\n",
        "x=np.random.random((5,5))\r\n",
        "xmax,xmin=x.max(),x.min()\r\n",
        "x=(x-xmin)/(xmax-xmin)\r\n",
        "print(x)"
      ],
      "execution_count": 22,
      "outputs": [
        {
          "output_type": "stream",
          "text": [
            "Normalize a 5x5 random matrix:\n",
            "[[0.03937513 0.52325638 0.98837489 0.11143559 0.5529144 ]\n",
            " [0.23040284 0.91911762 0.53633165 0.94579507 0.99545813]\n",
            " [0.72214523 0.12778637 0.49640042 0.38963804 0.76682196]\n",
            " [1.         0.45772603 0.91840391 0.56086484 0.36455401]\n",
            " [0.35345886 0.71319693 0.14204452 0.90428997 0.        ]]\n"
          ],
          "name": "stdout"
        }
      ]
    },
    {
      "cell_type": "code",
      "metadata": {
        "colab": {
          "base_uri": "https://localhost:8080/"
        },
        "id": "R8ylSUm25CVW",
        "outputId": "320f039e-79dd-4736-b722-56ed5d1e10a9"
      },
      "source": [
        "#23. Create a custom dtype that describes a color as four unsigned bytes (RGBA) \r\n",
        "print(\"Create a custom dtype that describes a color as four unsigned bytes (RGBA) :\")\r\n",
        "color = np.dtype([(\"r\", np.ubyte, 1),\r\n",
        "                  (\"g\", np.ubyte, 1),\r\n",
        "                  (\"b\", np.ubyte, 1),\r\n",
        "                  (\"a\", np.ubyte, 1)])\r\n",
        "print(color)"
      ],
      "execution_count": 23,
      "outputs": [
        {
          "output_type": "stream",
          "text": [
            "Create a custom dtype that describes a color as four unsigned bytes (RGBA) :\n",
            "[('r', 'u1'), ('g', 'u1'), ('b', 'u1'), ('a', 'u1')]\n"
          ],
          "name": "stdout"
        },
        {
          "output_type": "stream",
          "text": [
            "/usr/local/lib/python3.6/dist-packages/ipykernel_launcher.py:6: FutureWarning: Passing (type, 1) or '1type' as a synonym of type is deprecated; in a future version of numpy, it will be understood as (type, (1,)) / '(1,)type'.\n",
            "  \n"
          ],
          "name": "stderr"
        }
      ]
    },
    {
      "cell_type": "code",
      "metadata": {
        "colab": {
          "base_uri": "https://localhost:8080/"
        },
        "id": "AZRKTgUq5GPc",
        "outputId": "4080ed4d-3088-4c73-ada4-e30b2d9aa6d5"
      },
      "source": [
        "#24. Multiply a 5x3 matrix by a 3x2 matrix (real matrix product)\r\n",
        "print(\"Multiply a 5x3 matrix by a 3x2 matrix:\")\r\n",
        "a=np.random.random((5,3))\r\n",
        "b=np.random.random((3,2))\r\n",
        "print(a.dot(b))"
      ],
      "execution_count": 24,
      "outputs": [
        {
          "output_type": "stream",
          "text": [
            "Multiply a 5x3 matrix by a 3x2 matrix:\n",
            "[[0.48541138 0.8789778 ]\n",
            " [0.9425049  1.34182759]\n",
            " [0.12292369 0.51449881]\n",
            " [0.48013125 1.0649029 ]\n",
            " [0.12047063 0.1684405 ]]\n"
          ],
          "name": "stdout"
        }
      ]
    },
    {
      "cell_type": "code",
      "metadata": {
        "colab": {
          "base_uri": "https://localhost:8080/"
        },
        "id": "TffZMfoX5K0G",
        "outputId": "6586181f-a2df-4d51-9caf-b0cf20166650"
      },
      "source": [
        "#25. Given a 1D array, negate all elements which are between 3 and 8, in place.\r\n",
        "print(\"Given a 1D array, negate all elements which are between 3 and 8, in place:\")\r\n",
        "arr=np.arange(11)\r\n",
        "print(arr)\r\n",
        "m = (arr > 3) & (arr < 8)\r\n",
        "arr[m] *= -1\r\n",
        "print(arr)"
      ],
      "execution_count": 25,
      "outputs": [
        {
          "output_type": "stream",
          "text": [
            "Given a 1D array, negate all elements which are between 3 and 8, in place:\n",
            "[ 0  1  2  3  4  5  6  7  8  9 10]\n",
            "[ 0  1  2  3 -4 -5 -6 -7  8  9 10]\n"
          ],
          "name": "stdout"
        }
      ]
    },
    {
      "cell_type": "code",
      "metadata": {
        "colab": {
          "base_uri": "https://localhost:8080/"
        },
        "id": "bzbeyHos5N7n",
        "outputId": "c48086eb-786c-4189-db01-633af73b6595"
      },
      "source": [
        "#29. How to round away from zero a float array \r\n",
        "print(\"Round away from zero a float array :\")\r\n",
        "a=[0,1,2,4,57,8,5.5,2]\r\n",
        "np.round(a,0)\r\n",
        "print(a)"
      ],
      "execution_count": 26,
      "outputs": [
        {
          "output_type": "stream",
          "text": [
            "Round away from zero a float array :\n",
            "[0, 1, 2, 4, 57, 8, 5.5, 2]\n"
          ],
          "name": "stdout"
        }
      ]
    },
    {
      "cell_type": "code",
      "metadata": {
        "colab": {
          "base_uri": "https://localhost:8080/"
        },
        "id": "oM-H-baL5Pl1",
        "outputId": "512606c3-e271-485b-d9de-2f3c25fb92ce"
      },
      "source": [
        "#30. How to find common values between two arrays?\r\n",
        "print(\"Find common values between two arrays:\")\r\n",
        "a=np.array([1,2,3])\r\n",
        "b=np.array([1,2,4])\r\n",
        "c=np.intersect1d(a,b)\r\n",
        "print(c)"
      ],
      "execution_count": 27,
      "outputs": [
        {
          "output_type": "stream",
          "text": [
            "Find common values between two arrays:\n",
            "[1 2]\n"
          ],
          "name": "stdout"
        }
      ]
    },
    {
      "cell_type": "code",
      "metadata": {
        "colab": {
          "base_uri": "https://localhost:8080/"
        },
        "id": "sTxsM-wE5VT1",
        "outputId": "5244dd3c-51fe-404c-f9ae-aa60d34064b1"
      },
      "source": [
        "#33. How to get the dates of yesterday, today and tomorrow?\r\n",
        "print(\"How to get the dates of yesterday, today and tomorrow:\")\r\n",
        "yesterday=np.datetime64('today','D')-np.timedelta64(1,'D')\r\n",
        "print(\"yesterday :\",yesterday)\r\n",
        "\r\n",
        "today=np.datetime64('today','D')\r\n",
        "print(\"today:\",today)\r\n",
        "\r\n",
        "tommorow=np.datetime64('today','D')+np.timedelta64(1,'D')\r\n",
        "print(\"tommorow :\",tommorow)"
      ],
      "execution_count": 28,
      "outputs": [
        {
          "output_type": "stream",
          "text": [
            "How to get the dates of yesterday, today and tomorrow:\n",
            "yesterday : 2020-12-17\n",
            "today: 2020-12-18\n",
            "tommorow : 2020-12-19\n"
          ],
          "name": "stdout"
        }
      ]
    },
    {
      "cell_type": "code",
      "metadata": {
        "colab": {
          "base_uri": "https://localhost:8080/"
        },
        "id": "LxG0F8E65ZWx",
        "outputId": "fc28c8ef-17e8-4624-d072-1802bb65f026"
      },
      "source": [
        "#34. How to get all the dates corresponding to the month of July 2016? \r\n",
        "print(\"Get all the dates corresponding to the month of July 2016 :\")\r\n",
        "print(np.arange('2016-07','2016-08',dtype='datetime64[D]'))"
      ],
      "execution_count": 29,
      "outputs": [
        {
          "output_type": "stream",
          "text": [
            "Get all the dates corresponding to the month of July 2016 :\n",
            "['2016-07-01' '2016-07-02' '2016-07-03' '2016-07-04' '2016-07-05'\n",
            " '2016-07-06' '2016-07-07' '2016-07-08' '2016-07-09' '2016-07-10'\n",
            " '2016-07-11' '2016-07-12' '2016-07-13' '2016-07-14' '2016-07-15'\n",
            " '2016-07-16' '2016-07-17' '2016-07-18' '2016-07-19' '2016-07-20'\n",
            " '2016-07-21' '2016-07-22' '2016-07-23' '2016-07-24' '2016-07-25'\n",
            " '2016-07-26' '2016-07-27' '2016-07-28' '2016-07-29' '2016-07-30'\n",
            " '2016-07-31']\n"
          ],
          "name": "stdout"
        }
      ]
    },
    {
      "cell_type": "code",
      "metadata": {
        "colab": {
          "base_uri": "https://localhost:8080/"
        },
        "id": "JdXa-yBZ5at3",
        "outputId": "1e4504f3-8746-4d1b-9ca0-f267fd4f3c8b"
      },
      "source": [
        "#35. How to compute ((A+B)*(-A/2)) in place (without copy)? \r\n",
        "print(\"Compute ((A+B)*(-A/2)) in place (without copy):\")\r\n",
        "a=np.ones(3)\r\n",
        "b=np.ones(3)\r\n",
        "np.add(a,b,out=b)\r\n",
        "np.divide(a,2,out=a)\r\n",
        "np.negative(a,out=a)\r\n",
        "np.multiply(a,b,out=a)\r\n",
        "print(a)\r\n"
      ],
      "execution_count": 30,
      "outputs": [
        {
          "output_type": "stream",
          "text": [
            "Compute ((A+B)*(-A/2)) in place (without copy):\n",
            "[-1. -1. -1.]\n"
          ],
          "name": "stdout"
        }
      ]
    },
    {
      "cell_type": "code",
      "metadata": {
        "colab": {
          "base_uri": "https://localhost:8080/"
        },
        "id": "nxcQw9vS5duY",
        "outputId": "9763ce97-1070-4eac-82a4-a5b24151c0ce"
      },
      "source": [
        "#36. Extract the integer part of a random array of positive numbers using 4 different methods \r\n",
        "print(\"Extract the integer part of a random array of positive numbers :\")\r\n",
        "e=np.random.uniform(0,10,10)\r\n",
        "print(e)\r\n",
        "print(e.astype(int))"
      ],
      "execution_count": 31,
      "outputs": [
        {
          "output_type": "stream",
          "text": [
            "Extract the integer part of a random array of positive numbers :\n",
            "[0.73340311 3.18967845 7.91439899 9.20867003 0.39675584 4.94840934\n",
            " 3.69219877 4.16806931 7.93857805 2.76641773]\n",
            "[0 3 7 9 0 4 3 4 7 2]\n"
          ],
          "name": "stdout"
        }
      ]
    },
    {
      "cell_type": "code",
      "metadata": {
        "colab": {
          "base_uri": "https://localhost:8080/"
        },
        "id": "iwG1NmBU5hrg",
        "outputId": "27a0a739-7d21-4261-8639-3a77a875ca53"
      },
      "source": [
        "#37. Create a 5x5 matrix with row values ranging from 0 to 4\r\n",
        "print(\"Create a 5x5 matrix with row values ranging from 0 to 4:\")\r\n",
        "u=np.zeros((5,5))\r\n",
        "u+=np.arange(5)\r\n",
        "print(u)"
      ],
      "execution_count": 32,
      "outputs": [
        {
          "output_type": "stream",
          "text": [
            "Create a 5x5 matrix with row values ranging from 0 to 4:\n",
            "[[0. 1. 2. 3. 4.]\n",
            " [0. 1. 2. 3. 4.]\n",
            " [0. 1. 2. 3. 4.]\n",
            " [0. 1. 2. 3. 4.]\n",
            " [0. 1. 2. 3. 4.]]\n"
          ],
          "name": "stdout"
        }
      ]
    },
    {
      "cell_type": "code",
      "metadata": {
        "colab": {
          "base_uri": "https://localhost:8080/"
        },
        "id": "p5_0M4fy5lci",
        "outputId": "dcfd83e8-e11a-43cf-83c3-022cf2803454"
      },
      "source": [
        "#38. Consider a generator function that generates 10 integers and use it to build an array\r\n",
        "print(\"Consider a generator function that generates 10 integers and use it to build an array:\")\r\n",
        "def generate():\r\n",
        "    for x in range(10):\r\n",
        "        yield x\r\n",
        "Z = np.fromiter(generate(),dtype=float,count=-1)\r\n",
        "print(Z)"
      ],
      "execution_count": 33,
      "outputs": [
        {
          "output_type": "stream",
          "text": [
            "Consider a generator function that generates 10 integers and use it to build an array:\n",
            "[0. 1. 2. 3. 4. 5. 6. 7. 8. 9.]\n"
          ],
          "name": "stdout"
        }
      ]
    },
    {
      "cell_type": "code",
      "metadata": {
        "colab": {
          "base_uri": "https://localhost:8080/"
        },
        "id": "dSQIE8rD5ot7",
        "outputId": "726c1946-673f-4a1c-f305-200fd320a32c"
      },
      "source": [
        "#39. Create a vector of size 10 with values ranging from 0 to 1, both excluded\r\n",
        "print(\"Create a vector of size 10 with values ranging from 0 to 1, both excluded:\")\r\n",
        "x = np.linspace(0,1,12,endpoint=True)[1:-1]\r\n",
        "print(x)"
      ],
      "execution_count": 34,
      "outputs": [
        {
          "output_type": "stream",
          "text": [
            "Create a vector of size 10 with values ranging from 0 to 1, both excluded:\n",
            "[0.09090909 0.18181818 0.27272727 0.36363636 0.45454545 0.54545455\n",
            " 0.63636364 0.72727273 0.81818182 0.90909091]\n"
          ],
          "name": "stdout"
        }
      ]
    },
    {
      "cell_type": "code",
      "metadata": {
        "colab": {
          "base_uri": "https://localhost:8080/"
        },
        "id": "3K8TgCVk5rSh",
        "outputId": "5714b8af-675b-41e9-ec0f-3c90b04620a5"
      },
      "source": [
        "#40. Create a random vector of size 10 and sort it \r\n",
        "print(\"Create a random vector of size 10 and sort it :\")\r\n",
        "x=np.random.random(10)\r\n",
        "x.sort()\r\n",
        "print(x)"
      ],
      "execution_count": 35,
      "outputs": [
        {
          "output_type": "stream",
          "text": [
            "Create a random vector of size 10 and sort it :\n",
            "[0.38510633 0.41504303 0.57865401 0.61858813 0.66231301 0.76004882\n",
            " 0.83922802 0.85171698 0.90729684 0.96012033]\n"
          ],
          "name": "stdout"
        }
      ]
    },
    {
      "cell_type": "code",
      "metadata": {
        "colab": {
          "base_uri": "https://localhost:8080/"
        },
        "id": "3YkSf66-5vVZ",
        "outputId": "1a037f14-d547-43b3-b849-8d5a30614bf5"
      },
      "source": [
        "#41. How to sum a small array\r\n",
        "print(\"Sum a small array\")\r\n",
        "c=np.arange(10)\r\n",
        "print(np.sum(c))"
      ],
      "execution_count": 36,
      "outputs": [
        {
          "output_type": "stream",
          "text": [
            "Sum a small array\n",
            "45\n"
          ],
          "name": "stdout"
        }
      ]
    },
    {
      "cell_type": "code",
      "metadata": {
        "colab": {
          "base_uri": "https://localhost:8080/"
        },
        "id": "B3-k-uwq5yeJ",
        "outputId": "ab1d7d51-1264-4563-defe-a312dd718270"
      },
      "source": [
        "#42. Consider two random array A and B, check if they are equal \r\n",
        "A=np.random.randint(0,2,10)\r\n",
        "print(A)\r\n",
        "B=np.random.randint(0,2,10)\r\n",
        "print(B)\r\n",
        "e=np.allclose(A,B)\r\n",
        "print(e)"
      ],
      "execution_count": 37,
      "outputs": [
        {
          "output_type": "stream",
          "text": [
            "[1 0 0 0 1 0 0 1 0 0]\n",
            "[0 0 0 1 1 0 0 0 1 1]\n",
            "False\n"
          ],
          "name": "stdout"
        }
      ]
    },
    {
      "cell_type": "code",
      "metadata": {
        "colab": {
          "base_uri": "https://localhost:8080/"
        },
        "id": "VQD_Nyf650O4",
        "outputId": "e1e7a33c-dd1e-48f4-eb10-6e8595499415"
      },
      "source": [
        "#43. Make an array immutable \r\n",
        "print(\"Make an array immutable \")\r\n",
        "A.flags.writeable=False"
      ],
      "execution_count": 38,
      "outputs": [
        {
          "output_type": "stream",
          "text": [
            "Make an array immutable \n"
          ],
          "name": "stdout"
        }
      ]
    },
    {
      "cell_type": "code",
      "metadata": {
        "colab": {
          "base_uri": "https://localhost:8080/"
        },
        "id": "KG2FqjSK54Xu",
        "outputId": "df72fa86-aa21-4ec5-f1ec-afd89a0de76d"
      },
      "source": [
        "#44. Consider a random 10x2 matrix representing cartesian coordinates, convert them to polar coordinates\r\n",
        "print(\"Consider a random 10x2 matrix representing cartesian coordinates, convert them to polar coordinates:\")\r\n",
        "z= np.random.random((10,2))\r\n",
        "x,y = z[:,0], z[:,1]\r\n",
        "r = np.sqrt(x**2+y**2)\r\n",
        "t = np.arctan2(y,x)\r\n",
        "print(r)\r\n",
        "print(t)"
      ],
      "execution_count": 39,
      "outputs": [
        {
          "output_type": "stream",
          "text": [
            "Consider a random 10x2 matrix representing cartesian coordinates, convert them to polar coordinates:\n",
            "[0.62565235 0.47204513 0.57984355 0.85632953 0.54307907 0.99386628\n",
            " 0.83996979 0.64134242 0.95361437 0.27729654]\n",
            "[1.46337067 0.22081922 0.89826544 1.32046833 1.23371832 0.48592438\n",
            " 1.36306815 0.58855929 0.23107683 0.67906711]\n"
          ],
          "name": "stdout"
        }
      ]
    },
    {
      "cell_type": "code",
      "metadata": {
        "colab": {
          "base_uri": "https://localhost:8080/"
        },
        "id": "pPtsnCq-57fR",
        "outputId": "c64a5738-a2cc-4063-93ba-5672bd956575"
      },
      "source": [
        "#45. Create random vector of size 10 and replace the maximum value by 0\r\n",
        "print(\"Create random vector of size 10 and replace the maximum value by 0:\")\r\n",
        "t= np.random.random((10))\r\n",
        "print(t)\r\n",
        "t[t.argmax()] = 0\r\n",
        "print(t)"
      ],
      "execution_count": 40,
      "outputs": [
        {
          "output_type": "stream",
          "text": [
            "Create random vector of size 10 and replace the maximum value by 0:\n",
            "[0.78002261 0.12156865 0.60331438 0.63471534 0.55064957 0.52580114\n",
            " 0.18359057 0.88330238 0.08904084 0.33219701]\n",
            "[0.78002261 0.12156865 0.60331438 0.63471534 0.55064957 0.52580114\n",
            " 0.18359057 0.         0.08904084 0.33219701]\n"
          ],
          "name": "stdout"
        }
      ]
    },
    {
      "cell_type": "code",
      "metadata": {
        "colab": {
          "base_uri": "https://localhost:8080/"
        },
        "id": "WWK3_I8I6Bfn",
        "outputId": "88a4ae1a-f451-4bfe-e353-f738bf4637bc"
      },
      "source": [
        "#47. Given two arrays, X and Y, construct the Cauchy matrix C (Cij =1/(xi - yj))\r\n",
        "\r\n",
        "\r\n",
        "print(\"Given two arrays, X and Y, construct the Cauchy matrix C (Cij =1/(xi - yj))\")\r\n",
        "x= np.array([1,2,3])\r\n",
        "print(x)\r\n",
        "y= np.array([1,5,4])\r\n",
        "print(y)\r\n",
        "\r\n",
        "x = x.reshape((-1,1))\r\n",
        "print(x)\r\n",
        "diff_matrix = x-y\r\n",
        "print(diff_matrix)\r\n",
        "cauchym = 1.0/diff_matrix\r\n",
        "print(cauchym)"
      ],
      "execution_count": 41,
      "outputs": [
        {
          "output_type": "stream",
          "text": [
            "Given two arrays, X and Y, construct the Cauchy matrix C (Cij =1/(xi - yj))\n",
            "[1 2 3]\n",
            "[1 5 4]\n",
            "[[1]\n",
            " [2]\n",
            " [3]]\n",
            "[[ 0 -4 -3]\n",
            " [ 1 -3 -2]\n",
            " [ 2 -2 -1]]\n",
            "[[        inf -0.25       -0.33333333]\n",
            " [ 1.         -0.33333333 -0.5       ]\n",
            " [ 0.5        -0.5        -1.        ]]\n"
          ],
          "name": "stdout"
        },
        {
          "output_type": "stream",
          "text": [
            "/usr/local/lib/python3.6/dist-packages/ipykernel_launcher.py:14: RuntimeWarning: divide by zero encountered in true_divide\n",
            "  \n"
          ],
          "name": "stderr"
        }
      ]
    },
    {
      "cell_type": "code",
      "metadata": {
        "colab": {
          "base_uri": "https://localhost:8080/"
        },
        "id": "NSbsMNiV6C1j",
        "outputId": "295a80c4-9e6e-4bd9-9c82-8a20e368a103"
      },
      "source": [
        "#48. Print the minimum and maximum \r\n",
        "print(\"Minimum and maximum :\")\r\n",
        "print(np.max(x))\r\n",
        "print(np.min(x))"
      ],
      "execution_count": 42,
      "outputs": [
        {
          "output_type": "stream",
          "text": [
            "Minimum and maximum :\n",
            "3\n",
            "1\n"
          ],
          "name": "stdout"
        }
      ]
    },
    {
      "cell_type": "code",
      "metadata": {
        "colab": {
          "base_uri": "https://localhost:8080/"
        },
        "id": "vI7G81WR6HQ_",
        "outputId": "acc095a3-fd74-47e0-88b6-e9655ed7048a"
      },
      "source": [
        "#49. How to print all the values of an array? \r\n",
        "print(\"Print all the values of an array:\")\r\n",
        "x= np.array([1,2,3])\r\n",
        "for i in x:\r\n",
        "\tprint(i,end=' ')"
      ],
      "execution_count": 43,
      "outputs": [
        {
          "output_type": "stream",
          "text": [
            "Print all the values of an array:\n",
            "1 2 3 "
          ],
          "name": "stdout"
        }
      ]
    },
    {
      "cell_type": "code",
      "metadata": {
        "colab": {
          "base_uri": "https://localhost:8080/"
        },
        "id": "y5JQRrID6KiH",
        "outputId": "6076c055-be02-4c13-bdd2-100e4d3d963e"
      },
      "source": [
        "#50. How to find the closest value (to a given scalar) in a vector?\r\n",
        "print(\"find the closest value (to a given scalar) in a vector:\")\r\n",
        "x=np.arange(100)\r\n",
        "print(\"The original array:\")\r\n",
        "print(x)\r\n",
        "a=np.random.uniform(0,100)\r\n",
        "print(\"Value to compare :\")\r\n",
        "print(a)\r\n",
        "indx=(np.abs(x-a)).argmin()\r\n",
        "print(indx)"
      ],
      "execution_count": 44,
      "outputs": [
        {
          "output_type": "stream",
          "text": [
            "find the closest value (to a given scalar) in a vector:\n",
            "The original array:\n",
            "[ 0  1  2  3  4  5  6  7  8  9 10 11 12 13 14 15 16 17 18 19 20 21 22 23\n",
            " 24 25 26 27 28 29 30 31 32 33 34 35 36 37 38 39 40 41 42 43 44 45 46 47\n",
            " 48 49 50 51 52 53 54 55 56 57 58 59 60 61 62 63 64 65 66 67 68 69 70 71\n",
            " 72 73 74 75 76 77 78 79 80 81 82 83 84 85 86 87 88 89 90 91 92 93 94 95\n",
            " 96 97 98 99]\n",
            "Value to compare :\n",
            "48.230016641374064\n",
            "48\n"
          ],
          "name": "stdout"
        }
      ]
    },
    {
      "cell_type": "code",
      "metadata": {
        "colab": {
          "base_uri": "https://localhost:8080/"
        },
        "id": "5CF7EQ-a6L6w",
        "outputId": "657156df-5668-4475-e517-4bf721d9e26a"
      },
      "source": [
        "#Create a structured array representing a position (x,y) and a color (r,g,b)\r\n",
        "print(\"Create a structured array representing a position (x,y) and a color (r,g,b):\")\r\n",
        "Z = np.zeros(10, [ ('position', [ ('x', float),\r\n",
        "                                  ('y', float)]),\r\n",
        "                   ('color',    [ ('r', float),\r\n",
        "                                  ('g', float),\r\n",
        "                                  ('b', float)])])\r\n",
        "print(Z)"
      ],
      "execution_count": 45,
      "outputs": [
        {
          "output_type": "stream",
          "text": [
            "Create a structured array representing a position (x,y) and a color (r,g,b):\n",
            "[((0., 0.), (0., 0., 0.)) ((0., 0.), (0., 0., 0.))\n",
            " ((0., 0.), (0., 0., 0.)) ((0., 0.), (0., 0., 0.))\n",
            " ((0., 0.), (0., 0., 0.)) ((0., 0.), (0., 0., 0.))\n",
            " ((0., 0.), (0., 0., 0.)) ((0., 0.), (0., 0., 0.))\n",
            " ((0., 0.), (0., 0., 0.)) ((0., 0.), (0., 0., 0.))]\n"
          ],
          "name": "stdout"
        }
      ]
    },
    {
      "cell_type": "code",
      "metadata": {
        "colab": {
          "base_uri": "https://localhost:8080/"
        },
        "id": "kKzaKolf6TtF",
        "outputId": "3c37fa50-ff0a-4e7f-b4e2-91ec9c473ecb"
      },
      "source": [
        "#52. Consider a random vector with shape (100,2) representing coordinates, find point by point distances\r\n",
        "print(\"Consider a random vector with shape (100,2) representing coordinates, find point by point distances:\")\r\n",
        "rv=np.random.rand(100,2)\r\n",
        "print(rv)"
      ],
      "execution_count": 46,
      "outputs": [
        {
          "output_type": "stream",
          "text": [
            "Consider a random vector with shape (100,2) representing coordinates, find point by point distances:\n",
            "[[1.28870725e-01 7.23755748e-01]\n",
            " [7.55722203e-01 9.82355065e-01]\n",
            " [8.33638412e-01 5.91463056e-01]\n",
            " [7.98861719e-01 4.64231737e-01]\n",
            " [8.09741941e-02 6.11249707e-01]\n",
            " [8.07991987e-01 4.96646050e-01]\n",
            " [5.46794883e-02 2.01474359e-01]\n",
            " [4.63656255e-01 2.12203117e-01]\n",
            " [2.19138299e-01 6.66881910e-01]\n",
            " [6.76539661e-01 1.71430236e-01]\n",
            " [5.65185990e-01 1.34168697e-01]\n",
            " [1.92507332e-01 6.45883824e-01]\n",
            " [5.94555768e-01 3.91279844e-01]\n",
            " [8.60263651e-01 4.34446446e-01]\n",
            " [8.14420428e-01 5.56720661e-01]\n",
            " [6.40024327e-01 7.44246786e-01]\n",
            " [2.25479653e-01 7.65790890e-01]\n",
            " [8.44343174e-01 6.64609922e-02]\n",
            " [9.73282729e-01 3.46810592e-01]\n",
            " [6.44608898e-01 6.07955274e-01]\n",
            " [4.91557229e-01 4.32813387e-01]\n",
            " [8.32224881e-01 2.70705278e-01]\n",
            " [9.22486302e-01 1.82618204e-01]\n",
            " [5.64027986e-01 5.45130090e-02]\n",
            " [6.18372350e-01 7.69554474e-01]\n",
            " [3.77926502e-01 6.30487776e-01]\n",
            " [7.07680868e-01 1.75192194e-01]\n",
            " [3.00818415e-01 8.24806132e-01]\n",
            " [3.08849607e-01 7.08922710e-02]\n",
            " [8.96019899e-01 1.13179181e-01]\n",
            " [5.54655697e-01 4.10711029e-01]\n",
            " [4.69749313e-01 3.94243497e-01]\n",
            " [5.07275923e-01 6.08978541e-01]\n",
            " [7.66360765e-02 1.63410444e-01]\n",
            " [1.81801906e-01 6.09585318e-01]\n",
            " [5.74667192e-01 3.91748398e-01]\n",
            " [8.66434725e-01 5.05527293e-01]\n",
            " [9.84599400e-01 2.63970573e-03]\n",
            " [6.77474977e-01 7.02191721e-01]\n",
            " [1.64094084e-01 2.90881461e-01]\n",
            " [8.98768366e-01 4.57058055e-01]\n",
            " [4.12067597e-02 4.22245911e-01]\n",
            " [3.61490248e-01 3.17216398e-01]\n",
            " [4.99801915e-01 7.18711082e-01]\n",
            " [8.56998396e-01 5.94412859e-01]\n",
            " [6.98844827e-01 9.30556144e-01]\n",
            " [6.08058178e-01 6.37803400e-01]\n",
            " [6.42619767e-02 1.82939828e-01]\n",
            " [8.58822603e-01 9.59936983e-01]\n",
            " [4.65422798e-01 1.18574519e-01]\n",
            " [7.35928398e-01 9.87317053e-01]\n",
            " [8.88684949e-01 3.50407032e-01]\n",
            " [9.22520224e-01 6.05661865e-01]\n",
            " [5.87286845e-01 6.13197626e-02]\n",
            " [9.00235177e-01 3.55203777e-01]\n",
            " [8.39837582e-02 1.55720918e-01]\n",
            " [2.48410508e-01 1.75636973e-01]\n",
            " [5.27469843e-01 9.04406582e-01]\n",
            " [6.85746647e-01 7.35773724e-01]\n",
            " [5.89083882e-01 8.00819950e-01]\n",
            " [8.98240771e-01 3.23377808e-01]\n",
            " [3.34283494e-03 9.84904932e-01]\n",
            " [7.24315094e-01 1.27517237e-01]\n",
            " [9.35631766e-01 1.10209675e-01]\n",
            " [4.14163239e-01 2.10770461e-01]\n",
            " [3.54821279e-01 3.53164410e-01]\n",
            " [9.86279475e-01 9.28759849e-01]\n",
            " [3.81703557e-02 4.81492933e-01]\n",
            " [7.58587584e-01 5.86394499e-01]\n",
            " [1.32178127e-01 1.70418996e-01]\n",
            " [4.20705188e-01 7.65082318e-01]\n",
            " [8.63507101e-01 3.06995034e-01]\n",
            " [3.15873435e-01 2.97753659e-01]\n",
            " [4.53573406e-01 8.48249430e-01]\n",
            " [7.32552355e-01 8.99502314e-01]\n",
            " [8.18517423e-01 6.71739577e-01]\n",
            " [5.97555205e-01 2.20382779e-02]\n",
            " [4.44408183e-01 9.26630238e-01]\n",
            " [7.16249552e-01 3.83792267e-01]\n",
            " [7.70998966e-01 5.55589869e-01]\n",
            " [1.57124020e-02 9.74981259e-01]\n",
            " [4.29688129e-01 7.30467209e-01]\n",
            " [6.53724588e-01 4.67219399e-01]\n",
            " [6.02095559e-01 8.59742922e-01]\n",
            " [2.92343180e-01 7.27049121e-01]\n",
            " [6.92068581e-01 3.98493402e-01]\n",
            " [2.37444698e-01 3.87646197e-02]\n",
            " [7.82452655e-01 9.51384353e-01]\n",
            " [8.86757436e-01 2.49622840e-01]\n",
            " [9.79789852e-01 6.02028724e-01]\n",
            " [8.60809786e-01 7.56674694e-01]\n",
            " [1.46698005e-01 2.88455799e-01]\n",
            " [5.80114364e-01 5.17771706e-01]\n",
            " [4.77392180e-01 1.14393440e-01]\n",
            " [7.62047763e-01 4.63483367e-01]\n",
            " [7.01135885e-01 9.17226626e-01]\n",
            " [1.73918565e-01 8.10509852e-01]\n",
            " [5.37988446e-01 6.35322943e-01]\n",
            " [4.63857602e-01 7.24904685e-01]\n",
            " [7.74807704e-01 6.61352723e-04]]\n"
          ],
          "name": "stdout"
        }
      ]
    }
  ]
}