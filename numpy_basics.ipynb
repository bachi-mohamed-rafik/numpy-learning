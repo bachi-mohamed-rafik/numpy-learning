{
  "nbformat": 4,
  "nbformat_minor": 0,
  "metadata": {
    "colab": {
      "name": "numpy_basics.ipynb",
      "provenance": [],
      "collapsed_sections": [],
      "authorship_tag": "ABX9TyOwOU2t+zfcXviimx2lALMM",
      "include_colab_link": true
    },
    "kernelspec": {
      "name": "python3",
      "display_name": "Python 3"
    }
  },
  "cells": [
    {
      "cell_type": "markdown",
      "metadata": {
        "id": "view-in-github",
        "colab_type": "text"
      },
      "source": [
        "<a href=\"https://colab.research.google.com/github/bachi-mohamed-rafik/nympy-learning/blob/main/numpy_basics.ipynb\" target=\"_parent\"><img src=\"https://colab.research.google.com/assets/colab-badge.svg\" alt=\"Open In Colab\"/></a>"
      ]
    },
    {
      "cell_type": "markdown",
      "metadata": {
        "id": "NhV7ND3R7tex"
      },
      "source": [
        "#Numpy\r\n"
      ]
    },
    {
      "cell_type": "markdown",
      "metadata": {
        "id": "-eTNe1ee8ULs"
      },
      "source": [
        "import libraray\r\n"
      ]
    },
    {
      "cell_type": "code",
      "metadata": {
        "id": "_xYNq4dvsPvn"
      },
      "source": [
        "import numpy as np\r\n"
      ],
      "execution_count": null,
      "outputs": []
    },
    {
      "cell_type": "markdown",
      "metadata": {
        "id": "oEeeDb_O8h9Y"
      },
      "source": [
        "# scalar\r\n",
        "\r\n"
      ]
    },
    {
      "cell_type": "code",
      "metadata": {
        "colab": {
          "base_uri": "https://localhost:8080/"
        },
        "id": "darRrtog87SR",
        "outputId": "70d8e932-3b9e-42a4-8919-bb3f840b1072"
      },
      "source": [
        "x=np.array(7)\r\n",
        "print(\"x=\",x)\r\n",
        "print(\"number of dimensions of x:\", x.ndim)\r\n",
        "print(\"Dimensions\", x.shape)\r\n",
        "print(\"size of scalar x:\",x.size)\r\n",
        "print(\"The type of x:\",x.dtype)"
      ],
      "execution_count": null,
      "outputs": [
        {
          "output_type": "stream",
          "text": [
            "x= 7\n",
            "number of dimensions of x: 0\n",
            "Dimensions ()\n",
            "size of scalar x: 1\n",
            "The type of x: int64\n"
          ],
          "name": "stdout"
        }
      ]
    },
    {
      "cell_type": "markdown",
      "metadata": {
        "id": "fsLkPO5P-Dtk"
      },
      "source": [
        "#Vector"
      ]
    },
    {
      "cell_type": "code",
      "metadata": {
        "colab": {
          "base_uri": "https://localhost:8080/"
        },
        "id": "t-rEcrXU-Roh",
        "outputId": "141afbee-c93c-4aa5-faba-5dd3ef065a9a"
      },
      "source": [
        "v=np.array([1.2,4.5,7.8])\r\n",
        "print(\"The vector v :\",v)\r\n",
        "print(\"number of dimensions of v:\", v.ndim)\r\n",
        "print(\"Dimensions\", v.shape)\r\n",
        "print(\"size of scalar v:\",v.size)\r\n",
        "print(\"The type of v:\",v.dtype)"
      ],
      "execution_count": null,
      "outputs": [
        {
          "output_type": "stream",
          "text": [
            "The vector v : [1.2 4.5 7.8]\n",
            "number of dimensions of v: 1\n",
            "Dimensions (3,)\n",
            "size of scalar v: 3\n",
            "The type of v: float64\n"
          ],
          "name": "stdout"
        }
      ]
    },
    {
      "cell_type": "markdown",
      "metadata": {
        "id": "pAOKskI8_DmP"
      },
      "source": [
        "#Matrix\r\n"
      ]
    },
    {
      "cell_type": "code",
      "metadata": {
        "colab": {
          "base_uri": "https://localhost:8080/"
        },
        "id": "MnwSq03S_F9g",
        "outputId": "2d89fd32-3c6f-42c5-91f8-82072affef41"
      },
      "source": [
        "x=np.array([[1,2,3],[4,5,6],[7,8,9]])\r\n",
        "print(\"The x matrix:\\n\",x)\r\n",
        "print(\"number of dimensions of x:\", x.ndim)\r\n",
        "print(\"Dimensions\", x.shape)\r\n",
        "print(\"size of scalar x:\",x.size)\r\n",
        "print(\"The type of x:\",x.dtype)"
      ],
      "execution_count": null,
      "outputs": [
        {
          "output_type": "stream",
          "text": [
            "The x matrix:\n",
            " [[1 2 3]\n",
            " [4 5 6]\n",
            " [7 8 9]]\n",
            "number of dimensions of x: 2\n",
            "Dimensions (3, 3)\n",
            "size of scalar x: 9\n",
            "The type of x: int64\n"
          ],
          "name": "stdout"
        }
      ]
    },
    {
      "cell_type": "markdown",
      "metadata": {
        "id": "QdBncI83_9MP"
      },
      "source": [
        "#3-D Tensor\r\n"
      ]
    },
    {
      "cell_type": "code",
      "metadata": {
        "colab": {
          "base_uri": "https://localhost:8080/"
        },
        "id": "79Ebq5WTAnA7",
        "outputId": "b2c23fe4-4c26-4843-b0a2-79d445546b9f"
      },
      "source": [
        "x=np.array([[[1,2],[3,4]],[[5,6],[7,8]]])\r\n",
        "print(x)\r\n",
        "print(\"count of dimensions :\",x.ndim)\r\n",
        "print(\"Dimensions :\",x.shape)\r\n",
        "print(\"The size of x :\",x.size)\r\n",
        "print(\"The type of x :\",x.dtype)"
      ],
      "execution_count": null,
      "outputs": [
        {
          "output_type": "stream",
          "text": [
            "[[[1 2]\n",
            "  [3 4]]\n",
            "\n",
            " [[5 6]\n",
            "  [7 8]]]\n",
            "count of dimensions : 3\n",
            "Dimensions : (2, 2, 2)\n",
            "The size of x : 8\n",
            "The type of x : int64\n"
          ],
          "name": "stdout"
        }
      ]
    },
    {
      "cell_type": "markdown",
      "metadata": {
        "id": "ebd_WHC5CWFP"
      },
      "source": [
        "#Functions creation"
      ]
    },
    {
      "cell_type": "code",
      "metadata": {
        "colab": {
          "base_uri": "https://localhost:8080/"
        },
        "id": "r-L7DCDLCsqO",
        "outputId": "87262ac0-6102-4678-e5b4-305f39ce6e60"
      },
      "source": [
        "print(\"np.zeros((2,2))\",np.zeros((2,2)))\r\n",
        "print(\"np.ones((2,2)):\\n\",np.ones((2,2)))\r\n",
        "print(\"np.eye((2,2)):\\n\",np.eye((2)))\r\n",
        "print(\"np.random.random((2,2))\\n\",np.random.random((2,2)))\r\n",
        "print(\"np.random.randint((2,2))\\n\",np.random.randint((3,3,3)))"
      ],
      "execution_count": null,
      "outputs": [
        {
          "output_type": "stream",
          "text": [
            "np.zeros((2,2)) [[0. 0.]\n",
            " [0. 0.]]\n",
            "np.ones((2,2)):\n",
            " [[1. 1.]\n",
            " [1. 1.]]\n",
            "np.eye((2,2)):\n",
            " [[1. 0.]\n",
            " [0. 1.]]\n",
            "np.random.random((2,2))\n",
            " [[0.42788655 0.19633381]\n",
            " [0.72771463 0.29036027]]\n",
            "np.random.randint((2,2))\n",
            " [2 0 2]\n"
          ],
          "name": "stdout"
        }
      ]
    },
    {
      "cell_type": "markdown",
      "metadata": {
        "id": "FWmALNjkEgNP"
      },
      "source": [
        "#Indexing"
      ]
    },
    {
      "cell_type": "code",
      "metadata": {
        "colab": {
          "base_uri": "https://localhost:8080/"
        },
        "id": "5k-3CERZEmXi",
        "outputId": "2d5ab760-fddb-46f8-9264-1414720722bf"
      },
      "source": [
        "#indexing\r\n",
        "x=np.array([1,2,5,7,8,8])\r\n",
        "print(\"x=\",x)\r\n",
        "print(\"the second element of x:\",x[1])\r\n",
        "\r\n"
      ],
      "execution_count": null,
      "outputs": [
        {
          "output_type": "stream",
          "text": [
            "x= [1 2 5 7 8 8]\n",
            "the second element of x: 2\n"
          ],
          "name": "stdout"
        }
      ]
    },
    {
      "cell_type": "code",
      "metadata": {
        "colab": {
          "base_uri": "https://localhost:8080/"
        },
        "id": "Cry4UjXJHueT",
        "outputId": "74881c46-d06c-4834-baf4-eb5cdb551d8e"
      },
      "source": [
        "#slicing\r\n",
        "x=np.array([[1,2,3],[4,5,6],[7,8,9]])\r\n",
        "print(\"x matrix:\\n\",x)\r\n",
        "print(\"x column 2 \\n:\",x[:,1])\r\n",
        "print(\"x row 3 \\n:\",x[2,:])\r\n",
        "print(\"x rows 0,1 & cols 1,2:\\n\",x[0:2,1:3])"
      ],
      "execution_count": null,
      "outputs": [
        {
          "output_type": "stream",
          "text": [
            "x matrix:\n",
            " [[1 2 3]\n",
            " [4 5 6]\n",
            " [7 8 9]]\n",
            "x column 2 \n",
            ": [2 5 8]\n",
            "x row 3 \n",
            ": [7 8 9]\n",
            "x rows 0,1 & cols 1,2:\n",
            " [[2 3]\n",
            " [5 6]]\n"
          ],
          "name": "stdout"
        }
      ]
    },
    {
      "cell_type": "code",
      "metadata": {
        "colab": {
          "base_uri": "https://localhost:8080/"
        },
        "id": "l6UFTV1GNJ1u",
        "outputId": "27864a8b-be39-4731-ea06-7a72264f45ab"
      },
      "source": [
        "#integer array indexing\r\n",
        "x=np.array([[1,2,3],[4,5,6],[7,8,9],[10,11,12]])\r\n",
        "print(x)\r\n",
        "rg=np.array([1,3,2])\r\n",
        "cg=np.array([0,2,2])\r\n",
        "print(\"indxed values:\",x[rg,cg])"
      ],
      "execution_count": null,
      "outputs": [
        {
          "output_type": "stream",
          "text": [
            "[[ 1  2  3]\n",
            " [ 4  5  6]\n",
            " [ 7  8  9]\n",
            " [10 11 12]]\n",
            "indxed values: [ 4 12  9]\n"
          ],
          "name": "stdout"
        }
      ]
    },
    {
      "cell_type": "code",
      "metadata": {
        "colab": {
          "base_uri": "https://localhost:8080/"
        },
        "id": "8igYDHnSQ1XP",
        "outputId": "dfb02e6d-8f68-4db5-b81a-a00156cca067"
      },
      "source": [
        "#Boolean array indexing\r\n",
        "x=np.array([[1,2,3],[4,5,6],[7,8,9],[10,22,44]])\r\n",
        "print(x)\r\n",
        "print(\"x<5\\n\",x<5)\r\n",
        "print(\"x[x>5]\",x[x>5])\r\n"
      ],
      "execution_count": null,
      "outputs": [
        {
          "output_type": "stream",
          "text": [
            "[[ 1  2  3]\n",
            " [ 4  5  6]\n",
            " [ 7  8  9]\n",
            " [10 22 44]]\n",
            "x<5\n",
            " [[ True  True  True]\n",
            " [ True False False]\n",
            " [False False False]\n",
            " [False False False]]\n",
            "x[x>5] [ 6  7  8  9 10 22 44]\n"
          ],
          "name": "stdout"
        }
      ]
    },
    {
      "cell_type": "code",
      "metadata": {
        "colab": {
          "base_uri": "https://localhost:8080/"
        },
        "id": "jLNlhsNNTKa9",
        "outputId": "db2fac1a-deaa-4d9b-d241-24811c7d1c6d"
      },
      "source": [
        "#Arithmetic\r\n",
        "x=np.array([[1,2],[2,5],[7,8]])\r\n",
        "print(\"x:\\n\",x)\r\n",
        "y=np.array([[2,5],[8,7],[9,6]])\r\n",
        "print(\"y:\\n\",y)\r\n",
        "print(\"x+y:\\n\",np.add(x,y))\r\n",
        "print(\"x-y :\\n\",np.subtract(x,y))\r\n",
        "print(\"x*y :\\n\",np.multiply(x,y))"
      ],
      "execution_count": null,
      "outputs": [
        {
          "output_type": "stream",
          "text": [
            "x:\n",
            " [[1 2]\n",
            " [2 5]\n",
            " [7 8]]\n",
            "y:\n",
            " [[2 5]\n",
            " [8 7]\n",
            " [9 6]]\n",
            "x+y:\n",
            " [[ 3  7]\n",
            " [10 12]\n",
            " [16 14]]\n",
            "x-y :\n",
            " [[-1 -3]\n",
            " [-6 -2]\n",
            " [-2  2]]\n",
            "x*y :\n",
            " [[ 2 10]\n",
            " [16 35]\n",
            " [63 48]]\n"
          ],
          "name": "stdout"
        }
      ]
    },
    {
      "cell_type": "code",
      "metadata": {
        "colab": {
          "base_uri": "https://localhost:8080/"
        },
        "id": "Bwa5MVfdVpkj",
        "outputId": "ec970e05-b966-4386-fee4-2ad86cdf51a6"
      },
      "source": [
        "#Dot product\r\n",
        "a=np.array([[1,2],[2,5],[5,8]],dtype=np.float64)\r\n",
        "b=np.array([[1,2,4],[2,5,4]],dtype=np.float64)\r\n",
        "c=a.dot(b)\r\n",
        "print(a.shape ,\"*\",b.shape,\"=\",c.shape)\r\n",
        "print(\"c=\\n\",c)"
      ],
      "execution_count": null,
      "outputs": [
        {
          "output_type": "stream",
          "text": [
            "(3, 2) * (2, 3) = (3, 3)\n",
            "c=\n",
            " [[ 5. 12. 12.]\n",
            " [12. 29. 28.]\n",
            " [21. 50. 52.]]\n"
          ],
          "name": "stdout"
        }
      ]
    },
    {
      "cell_type": "code",
      "metadata": {
        "colab": {
          "base_uri": "https://localhost:8080/"
        },
        "id": "BwFjHcuRXqTb",
        "outputId": "3b2d8b88-3d2b-49e9-a54f-dd66c76e4602"
      },
      "source": [
        "#Axis operations\r\n",
        "x=np.array([[1,2],[5,4]])\r\n",
        "print(\"x=\\n\",x)\r\n",
        "print(\"sum all :\\n \",np.sum(x))\r\n",
        "print(\"sum by rows :\\n \",np.sum(x, axis=0))\r\n",
        "print(\"sum by columns :\\n \",np.sum(x, axis=1))"
      ],
      "execution_count": null,
      "outputs": [
        {
          "output_type": "stream",
          "text": [
            "x=\n",
            " [[1 2]\n",
            " [5 4]]\n",
            "sum all :\n",
            "  12\n",
            "sum by rows :\n",
            "  [6 6]\n",
            "sum by columns :\n",
            "  [3 9]\n"
          ],
          "name": "stdout"
        }
      ]
    },
    {
      "cell_type": "code",
      "metadata": {
        "colab": {
          "base_uri": "https://localhost:8080/"
        },
        "id": "QwPuth3caGoo",
        "outputId": "fa1976d0-963e-452b-9670-90fc2722d309"
      },
      "source": [
        "#Min/Max\r\n",
        "a=np.array([[1,2,3],[5,6,4]])\r\n",
        "print(\"a:\\n\",a)\r\n",
        "print(\"min of a: \",x.min())\r\n",
        "print(\"max of a: \",x.max())\r\n",
        "print(\"min x index 0 \\n\",x.min(axis=0))\r\n",
        "print(\"min x index 1 \\n\",x.min(axis=1))"
      ],
      "execution_count": null,
      "outputs": [
        {
          "output_type": "stream",
          "text": [
            "a:\n",
            " [[1 2 3]\n",
            " [5 6 4]]\n",
            "min of a:  1\n",
            "max of a:  5\n",
            "min x index 0 \n",
            " [1 2]\n",
            "min x index 1 \n",
            " [1 4]\n"
          ],
          "name": "stdout"
        }
      ]
    },
    {
      "cell_type": "code",
      "metadata": {
        "colab": {
          "base_uri": "https://localhost:8080/"
        },
        "id": "r_QywOaFbRLa",
        "outputId": "c7fd6d46-fabb-4bf0-887a-773a6a54b7f7"
      },
      "source": [
        "# Broadcasting\r\n",
        "a=np.array([[2,4],[2,4]])\r\n",
        "b=np.array([5,4])\r\n",
        "print(\"a+b=\\n\",a+b)\r\n",
        "c=np.array([5])\r\n",
        "print(\"b+c=\\n\",b+c)"
      ],
      "execution_count": null,
      "outputs": [
        {
          "output_type": "stream",
          "text": [
            "a+b=\n",
            " [[7 8]\n",
            " [7 8]]\n",
            "b+c=\n",
            " [10  9]\n"
          ],
          "name": "stdout"
        }
      ]
    },
    {
      "cell_type": "code",
      "metadata": {
        "colab": {
          "base_uri": "https://localhost:8080/"
        },
        "id": "Au_sGNIbdJyC",
        "outputId": "3e5f7024-619b-4444-fb39-8b45db04766d"
      },
      "source": [
        "#Transposing\r\n",
        "w=np.array([[1,2,3],[5,4,4],[4,5,99],[88,45,0]])\r\n",
        "print(\"w=\\n\",w)\r\n",
        "print(w.shape)\r\n",
        "wt=np.transpose(w)\r\n",
        "print(\"w transpose\\n\",wt)\r\n",
        "print(wt.shape)"
      ],
      "execution_count": null,
      "outputs": [
        {
          "output_type": "stream",
          "text": [
            "w=\n",
            " [[ 1  2  3]\n",
            " [ 5  4  4]\n",
            " [ 4  5 99]\n",
            " [88 45  0]]\n",
            "(4, 3)\n",
            "w transpose\n",
            " [[ 1  5  4 88]\n",
            " [ 2  4  5 45]\n",
            " [ 3  4 99  0]]\n",
            "(3, 4)\n"
          ],
          "name": "stdout"
        }
      ]
    },
    {
      "cell_type": "code",
      "metadata": {
        "colab": {
          "base_uri": "https://localhost:8080/"
        },
        "id": "YDoIeg0ueODy",
        "outputId": "5e0733d3-733f-4c2d-8fdf-667832af0982"
      },
      "source": [
        "#Reshaping\r\n",
        "s=np.array([1,2,57,5,5,4])\r\n",
        "print(\"s=\\n\",s)  \r\n",
        "t=np.reshape(s,(2,3))\r\n",
        "print(\"t=\\n\",t)\r\n",
        "c=np.reshape(s,(3,-1))\r\n",
        "print(\"c=\\n\",c)"
      ],
      "execution_count": null,
      "outputs": [
        {
          "output_type": "stream",
          "text": [
            "s=\n",
            " [ 1  2 57  5  5  4]\n",
            "t=\n",
            " [[ 1  2 57]\n",
            " [ 5  5  4]]\n",
            "c=\n",
            " [[ 1  2]\n",
            " [57  5]\n",
            " [ 5  4]]\n"
          ],
          "name": "stdout"
        }
      ]
    },
    {
      "cell_type": "code",
      "metadata": {
        "colab": {
          "base_uri": "https://localhost:8080/"
        },
        "id": "_ZEoFemgvPd-",
        "outputId": "1ce2c323-a053-408e-a3c8-e90e5d0b8cbd"
      },
      "source": [
        "#Adding removing dimensions\r\n",
        "#Adding\r\n",
        "x = np.array([[[1,2,3]],[[4,5,6]]])\r\n",
        "print(\"x= \\n\",x)\r\n",
        "print(\"x dimension:\\n\",x.shape)\r\n",
        "c=np.expand_dims(x,1)\r\n",
        "print(\"c=\\n\",c)\r\n",
        "print(\"c dimension:\\n\",c.shape)\r\n",
        "#Removing\r\n",
        "y = np.squeeze(x, 1) # squeeze dim 1\r\n",
        "print (\"y: \\n\", y)\r\n",
        "print (\"y.shape: \", y.shape)  # notice extra set of brackets are gone"
      ],
      "execution_count": null,
      "outputs": [
        {
          "output_type": "stream",
          "text": [
            "x= \n",
            " [[[1 2 3]]\n",
            "\n",
            " [[4 5 6]]]\n",
            "x dimension:\n",
            " (2, 1, 3)\n",
            "c=\n",
            " [[[[1 2 3]]]\n",
            "\n",
            "\n",
            " [[[4 5 6]]]]\n",
            "c dimension:\n",
            " (2, 1, 1, 3)\n",
            "y: \n",
            " [[1 2 3]\n",
            " [4 5 6]]\n",
            "y.shape:  (2, 3)\n"
          ],
          "name": "stdout"
        }
      ]
    }
  ]
}